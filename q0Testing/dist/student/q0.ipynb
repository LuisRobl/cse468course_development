{
 "cells": [
  {
   "cell_type": "code",
   "execution_count": null,
   "id": "0b0ebde9",
   "metadata": {
    "deletable": false,
    "editable": false
   },
   "outputs": [],
   "source": [
    "# Initialize Otter\n",
    "import otter\n",
    "grader = otter.Notebook(\"q0.ipynb\")"
   ]
  },
  {
   "cell_type": "markdown",
   "id": "spare-advancement",
   "metadata": {
    "id": "spare-advancement"
   },
   "source": [
    "# Qiskit Assignment 0\n",
    "## README\n",
    "Welcome to your first Qiskit assignment! Qiskit is IBM's open-source SDK for working with quantum computers. We will be using Qiskit for programming assignments this semester. This assignment will help you begin to familarize yourself with the assignment workflow.\n",
    "\n",
    "Qiskit assignments generally contain a mix of code problems and short answer questions. Some questions will be autograded and others are graded by hand. Make sure to follow all instructions to receive full credit. You should fill in code wherever you see `...`, and you should not change the code given to you unless explicitly stated to. **Nearly all needed code can be found in linked documentation throughout your notebook**.\n",
    "\n",
    "When debugging your solutions, fix the top error first as subsequent tests may not pass if preliminary ones fail. Minimal credit will be awarded to solutions that do not pass all tests.\n",
    "\n",
    "To submit your assignment, follow instructions at the bottom of the notebook and **submit only to the corresponding \"auto\" assignment** (e.g. qiskit 0 auto). Double check your autograder score on Gradescope to ensure it matches the output of your local tests.\n",
    "\n",
    "### Learning Objectives\n",
    "1. Get familiar with Qiskit\n",
    "2. Understand the difference between classical and quantum bits\n",
    "3. Build simple quantum circuits\n",
    "4. Run a circuit on a quantum computer\n",
    "\n",
    "### Resources\n",
    "Qiskit assignments are designed to be collaborative and open internet. Where possible, links to useful documentation will be embedded within questions. You're free to discuss these tasks with TAs and peers, but do **write your own solutions**. For some questions, there may be additional restrictions on the ways you can solve them. To ensure compliance with course policies and assignment instructions, we reserve the right to inspect your code."
   ]
  },
  {
   "cell_type": "markdown",
   "id": "1bb9ab9a",
   "metadata": {
    "id": "1bb9ab9a"
   },
   "source": [
    "**NAME**: REPLACE WITH YOUR NAME\n",
    "\n",
    "**STUDENT ID**: REPLACE WITH YOUR STUDENT ID"
   ]
  },
  {
   "cell_type": "code",
   "execution_count": null,
   "id": "legitimate-explosion",
   "metadata": {
    "id": "legitimate-explosion"
   },
   "outputs": [],
   "source": [
    "# RUN THIS CELL!\n",
    "# Import Qiskit and other needed packages\n",
    "from qiskit import *\n",
    "from qiskit.visualization import plot_histogram\n",
    "from qiskit.quantum_info import Statevector\n",
    "from qiskit_textbook.tools import array_to_latex\n",
    "from qiskit.providers.ibmq import least_busy\n",
    "import numpy as np\n",
    "import pprint"
   ]
  },
  {
   "cell_type": "markdown",
   "id": "secure-secondary",
   "metadata": {
    "deletable": false,
    "editable": false,
    "id": "secure-secondary"
   },
   "source": [
    "#### Task 1 - Building a Circuit (20 pts)\n",
    "Using Qiskit's [QuantumCircuit class](https://qiskit.org/documentation/stubs/qiskit.circuit.QuantumCircuit.html?highlight=quantumcircuit), fill in the `simpleCircuit()` function as follows:\n",
    "\n",
    "- Create a quantum circuit with 1 qubit and 1 classical bit\n",
    "- Measure the qubit\n",
    "- Return the circuit"
   ]
  },
  {
   "cell_type": "code",
   "execution_count": null,
   "id": "prescription-inventory",
   "metadata": {
    "id": "prescription-inventory",
    "tags": []
   },
   "outputs": [],
   "source": [
    "def simpleCircuit():\n",
    "    ..."
   ]
  },
  {
   "cell_type": "code",
   "execution_count": null,
   "id": "3200b242",
   "metadata": {
    "deletable": false,
    "editable": false
   },
   "outputs": [],
   "source": [
    "grader.check(\"Task 1\")"
   ]
  },
  {
   "cell_type": "markdown",
   "id": "cleared-malawi",
   "metadata": {
    "deletable": false,
    "editable": false,
    "id": "cleared-malawi"
   },
   "source": [
    "<!-- BEGIN QUESTION -->\n",
    "\n",
    "#### Task 2 - Drawing Circuits (20 pts)\n",
    "We can visualize circuits using the QuantumCircuit's [draw method](https://qiskit.org/documentation/stubs/qiskit.circuit.QuantumCircuit.draw.html#qiskit.circuit.QuantumCircuit.draw).\n",
    "\n",
    "Draw your circuit from Task 1 using the matplotlib format."
   ]
  },
  {
   "cell_type": "code",
   "execution_count": null,
   "id": "caroline-annotation",
   "metadata": {
    "id": "caroline-annotation",
    "outputId": "f41f8699-890c-4882-c591-3135952d0452",
    "tags": []
   },
   "outputs": [],
   "source": [
    "# Draw your circuit in this cell\n",
    "\n",
    "..."
   ]
  },
  {
   "cell_type": "markdown",
   "id": "appropriate-mixture",
   "metadata": {
    "deletable": false,
    "editable": false,
    "id": "appropriate-mixture"
   },
   "source": [
    "<!-- END QUESTION -->\n",
    "\n",
    "#### Task 3 - Simulating Circuits and Getting Results (10 pts)\n",
    "Circuits aren't very helpful unless we can run them and observe the outputs.\n",
    "We will frequently use the [qasm simulator](https://qiskit.org/documentation/stubs/qiskit.providers.aer.QasmSimulator.html) to simulate our circuit on a quantum machine.\n",
    "\n",
    "Create a job that runs a simpleCircuit `468` times. You will find these [docs](https://qiskit.org/documentation/apidoc/execute.html) useful. (Think: Do the results match what we'd expect from this circuit?)"
   ]
  },
  {
   "cell_type": "code",
   "execution_count": null,
   "id": "scheduled-hypothetical",
   "metadata": {
    "id": "scheduled-hypothetical",
    "outputId": "4e3f374c-6aad-41a7-bb40-63e901b22319",
    "tags": []
   },
   "outputs": [],
   "source": [
    "qc = simpleCircuit()\n",
    "qasm_sim = BasicAer.get_backend(\"qasm_simulator\")\n",
    "\n",
    "job = ...\n",
    "\n",
    "counts = job.result().get_counts()\n",
    "\n",
    "# This loop includes a state with zero probability\n",
    "# on the histogram for the purpose of\n",
    "# comparison with the next section.\n",
    "for state in ['0','1']:\n",
    "    if state not in counts:\n",
    "        counts[state] = 0\n",
    "\n",
    "plot_histogram(counts)"
   ]
  },
  {
   "cell_type": "code",
   "execution_count": null,
   "id": "0467b8f3",
   "metadata": {
    "deletable": false,
    "editable": false
   },
   "outputs": [],
   "source": [
    "grader.check(\"Task 3\")"
   ]
  },
  {
   "cell_type": "markdown",
   "id": "speaking-bulgaria",
   "metadata": {
    "deletable": false,
    "editable": false,
    "id": "speaking-bulgaria"
   },
   "source": [
    "<!-- BEGIN QUESTION -->\n",
    "\n",
    "#### Task 4 - Running Your Circuit on a Quantum Computer (20 pts)\n",
    "Now let's compare our results from the simulator with the results from a real quantum device.\n",
    "\n",
    "Create an account with [IBM Quantum](https://quantum-computing.ibm.com/login) and paste your API token into the code block below."
   ]
  },
  {
   "cell_type": "code",
   "execution_count": null,
   "id": "ff985808",
   "metadata": {
    "deletable": false,
    "editable": false,
    "id": "ff985808"
   },
   "outputs": [],
   "source": [
    "# IBMQ.save_account('REPLACE WITH YOUR TOKEN AND UNCOMMENT')"
   ]
  },
  {
   "cell_type": "markdown",
   "id": "28dfb12e",
   "metadata": {
    "deletable": false,
    "editable": false,
    "id": "28dfb12e"
   },
   "source": [
    "After running `save_account`, **please delete your token** from the previous cell and save your notebook. This keeps your token private to you and ensures the autograder does not time out. Credentials will be saved to your computer, and calling `load_account` is sufficient to retrieve them for future assignments."
   ]
  },
  {
   "cell_type": "code",
   "execution_count": null,
   "id": "brazilian-standard",
   "metadata": {
    "deletable": false,
    "editable": false,
    "id": "brazilian-standard",
    "outputId": "46727e28-3456-49e3-cf85-b265302bede2"
   },
   "outputs": [],
   "source": [
    "IBMQ.load_account()"
   ]
  },
  {
   "cell_type": "markdown",
   "id": "included-expansion",
   "metadata": {
    "deletable": false,
    "editable": false,
    "id": "included-expansion"
   },
   "source": [
    "The code block below lists some info about the available IBM quantum devices and queues."
   ]
  },
  {
   "cell_type": "code",
   "execution_count": null,
   "id": "speaking-november",
   "metadata": {
    "deletable": false,
    "editable": false,
    "id": "speaking-november",
    "outputId": "14bdff9b-1b00-4121-ae08-cbc918a05299"
   },
   "outputs": [],
   "source": [
    "provider = IBMQ.get_provider(hub='ibm-q')\n",
    "for backend in provider.backends():\n",
    "    status = backend.status().to_dict()\n",
    "    if status['operational'] and status['status_msg'] == 'active':\n",
    "        if 'simulator' not in status['backend_name']:\n",
    "            print(pprint.pformat(status))"
   ]
  },
  {
   "cell_type": "markdown",
   "id": "e8f54c42",
   "metadata": {
    "deletable": false,
    "editable": false,
    "id": "e8f54c42"
   },
   "source": [
    "We can also use the [`least_busy`](https://qiskit.org/textbook/ch-algorithms/superdense-coding.html#4.-Superdense-Coding-on-a-Real-Quantum-Computer-) method to pick the quantum device with the fewest pending jobs."
   ]
  },
  {
   "cell_type": "code",
   "execution_count": null,
   "id": "dfb7110f",
   "metadata": {
    "deletable": false,
    "editable": false,
    "id": "dfb7110f",
    "outputId": "7f2e768c-55c8-48a6-e3b8-00d9f86848f9"
   },
   "outputs": [],
   "source": [
    "lb = least_busy(IBMQ.get_provider(hub='ibm-q').backends(filters=lambda x: not x.configuration().simulator\n",
    "                                       and x.status().operational == True))\n",
    "print(\"Least busy quantum computer:\", lb)"
   ]
  },
  {
   "cell_type": "markdown",
   "id": "governing-industry",
   "metadata": {
    "deletable": false,
    "editable": false,
    "id": "governing-industry"
   },
   "source": [
    "Choose one of the backends from above and insert its name into the code block below. Running this code block will execute your circuit on an IBM quantum device. **Note: It may take a while for your job to complete based on queue times.** Use the generated link to check your job's status."
   ]
  },
  {
   "cell_type": "code",
   "execution_count": null,
   "id": "shaped-justice",
   "metadata": {
    "deletable": false,
    "editable": false,
    "id": "shaped-justice",
    "outputId": "e5125094-45b1-4962-91dd-b6a007cd4af8"
   },
   "outputs": [],
   "source": [
    "ibmqc = provider.get_backend('...REPLACE WITH A BACKEND NAME...')\n",
    "\n",
    "job = execute(simpleCircuit(), ibmqc, shots=468)\n",
    "print(\"Check job status here:\", \"https://quantum-computing.ibm.com/jobs/\" + job.job_id())\n",
    "res = job.result()\n",
    "counts_ibm = res.get_counts()\n",
    "plot_histogram(counts_ibm)"
   ]
  },
  {
   "cell_type": "markdown",
   "id": "fdb9f351",
   "metadata": {
    "deletable": false,
    "editable": false,
    "id": "fdb9f351"
   },
   "source": [
    "Do you see the same results as the qasm simulator? Why or why not? What is the error rate?"
   ]
  },
  {
   "cell_type": "markdown",
   "id": "84ebeb42",
   "metadata": {},
   "source": [
    "_Type your answer here, replacing this text._"
   ]
  },
  {
   "cell_type": "markdown",
   "id": "baking-contents",
   "metadata": {
    "deletable": false,
    "editable": false,
    "id": "baking-contents"
   },
   "source": [
    "<!-- END QUESTION -->\n",
    "\n",
    "#### Task 5 - Another Circuit (15 pts)\n",
    "We now turn to Qiskit's [Pauli X gate](https://qiskit.org/textbook/ch-states/single-qubit-gates.html#xgate) so that we can prepare qubits in the $|1\\rangle$ state.\n",
    "\n",
    "There is also a brief discussion of this gate at the end of `lecture 1: Background`.\n",
    "\n",
    "- Fill in the below function to return a new QuantumCircuit with 2 qubits and 2 classical bits\n",
    "- Prepare the first qubit in state $|0\\rangle$ and the second in state $|1\\rangle$\n",
    "- Perform a measurement of each qubit onto its corresponding classical bit\n",
    "- Draw the circuit using matplotlib"
   ]
  },
  {
   "cell_type": "code",
   "execution_count": null,
   "id": "confidential-primary",
   "metadata": {
    "id": "confidential-primary",
    "tags": []
   },
   "outputs": [],
   "source": [
    "def opposites():\n",
    "    ..."
   ]
  },
  {
   "cell_type": "code",
   "execution_count": null,
   "id": "d1999e3a",
   "metadata": {
    "id": "d1999e3a",
    "outputId": "1fdd07a8-a9a0-468b-f2f4-c1d1fcaf46a4",
    "tags": []
   },
   "outputs": [],
   "source": [
    "# Draw your circuit in this cell\n",
    "\n",
    "..."
   ]
  },
  {
   "cell_type": "code",
   "execution_count": null,
   "id": "1b96b252",
   "metadata": {
    "deletable": false,
    "editable": false
   },
   "outputs": [],
   "source": [
    "grader.check(\"Task 5\")"
   ]
  },
  {
   "cell_type": "markdown",
   "id": "colored-state",
   "metadata": {
    "deletable": false,
    "editable": false,
    "id": "colored-state"
   },
   "source": [
    "#### Task 6 - More Counts (15 pts)\n",
    "\n",
    "Think about what output you expect to see from this circuit.\n",
    "- Run your circuit on the qasm simulator 468 times\n",
    "- Store the measurement results in `counts_oppo`\n",
    "\n",
    "Note that the following cell uses Qiskit's [`reverse_bits()`](https://qiskit.org/documentation/stubs/qiskit.circuit.QuantumCircuit.reverse_bits.html#qiskit.circuit.QuantumCircuit.reverse_bits) function. This flips the ordering of qubits in a multi-qubit circuit and changes the [endianness](https://en.wikipedia.org/wiki/Endianness) of the resulting statevector, $|01\\rangle$. The reasons for this will become clear in the upcoming lectures and notebook assignments."
   ]
  },
  {
   "cell_type": "code",
   "execution_count": null,
   "id": "detailed-literature",
   "metadata": {
    "id": "detailed-literature",
    "outputId": "b03ac84b-d7fe-478f-8f03-16313d58c4fb",
    "tags": []
   },
   "outputs": [],
   "source": [
    "qc = opposites().reverse_bits()\n",
    "\n",
    "...\n",
    "\n",
    "for state in ['00','01','10','11']:\n",
    "    if state not in counts_oppo:\n",
    "        counts_oppo[state] = 0\n",
    "plot_histogram(counts_oppo)"
   ]
  },
  {
   "cell_type": "code",
   "execution_count": null,
   "id": "1bacacf4",
   "metadata": {
    "deletable": false,
    "editable": false
   },
   "outputs": [],
   "source": [
    "grader.check(\"Task 6\")"
   ]
  },
  {
   "cell_type": "markdown",
   "id": "monetary-battery",
   "metadata": {
    "id": "monetary-battery"
   },
   "source": [
    "## Conclusion\n",
    "This is the general workflow of building and running quantum circuits. We will introduce more qubits and gates as needed to solve problems.\n",
    "\n",
    "Next time: the unitary gate and single qubit circuits!"
   ]
  },
  {
   "cell_type": "markdown",
   "id": "dd087aa4",
   "metadata": {
    "deletable": false,
    "editable": false
   },
   "source": [
    "## Submission\n",
    "\n",
    "Make sure you have run all cells in your notebook in order before running the cell below, so that all images/graphs appear in the output. The cell below will generate a zip file for you to submit. **Please save before exporting!**"
   ]
  },
  {
   "cell_type": "code",
   "execution_count": null,
   "id": "c2a492ba",
   "metadata": {
    "deletable": false,
    "editable": false
   },
   "outputs": [],
   "source": [
    "# Save your notebook first, then run this cell to export your submission.\n",
    "grader.export(pdf=False, run_tests=True)"
   ]
  },
  {
   "cell_type": "markdown",
   "id": "82732a06",
   "metadata": {},
   "source": [
    " "
   ]
  }
 ],
 "metadata": {
  "colab": {
   "provenance": []
  },
  "kernelspec": {
   "display_name": "Python 3",
   "language": "python",
   "name": "python3"
  },
  "language_info": {
   "codemirror_mode": {
    "name": "ipython",
    "version": 3
   },
   "file_extension": ".py",
   "mimetype": "text/x-python",
   "name": "python",
   "nbconvert_exporter": "python",
   "pygments_lexer": "ipython3",
   "version": "3.7.0"
  }
 },
 "nbformat": 4,
 "nbformat_minor": 5
}
